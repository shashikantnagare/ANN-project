{
 "cells": [
  {
   "cell_type": "code",
   "execution_count": 182,
   "metadata": {
    "id": "UZFKN9m-gyHe"
   },
   "outputs": [],
   "source": [
    "import pandas as pd\n",
    "import matplotlib.pyplot as plt\n",
    "import seaborn as sn"
   ]
  },
  {
   "cell_type": "code",
   "execution_count": 183,
   "metadata": {
    "id": "F1dPvCGZgyHf"
   },
   "outputs": [],
   "source": [
    "df=pd.read_csv('Churn_Modelling.csv')"
   ]
  },
  {
   "cell_type": "code",
   "execution_count": 184,
   "metadata": {
    "colab": {
     "base_uri": "https://localhost:8080/",
     "height": 215
    },
    "id": "HSp5TO-LgyHf",
    "outputId": "66541e99-45a9-46a9-d344-9e98d7fb8e82"
   },
   "outputs": [
    {
     "data": {
      "text/html": [
       "<div>\n",
       "<style scoped>\n",
       "    .dataframe tbody tr th:only-of-type {\n",
       "        vertical-align: middle;\n",
       "    }\n",
       "\n",
       "    .dataframe tbody tr th {\n",
       "        vertical-align: top;\n",
       "    }\n",
       "\n",
       "    .dataframe thead th {\n",
       "        text-align: right;\n",
       "    }\n",
       "</style>\n",
       "<table border=\"1\" class=\"dataframe\">\n",
       "  <thead>\n",
       "    <tr style=\"text-align: right;\">\n",
       "      <th></th>\n",
       "      <th>RowNumber</th>\n",
       "      <th>CustomerId</th>\n",
       "      <th>Surname</th>\n",
       "      <th>CreditScore</th>\n",
       "      <th>Geography</th>\n",
       "      <th>Gender</th>\n",
       "      <th>Age</th>\n",
       "      <th>Tenure</th>\n",
       "      <th>Balance</th>\n",
       "      <th>NumOfProducts</th>\n",
       "      <th>HasCrCard</th>\n",
       "      <th>IsActiveMember</th>\n",
       "      <th>EstimatedSalary</th>\n",
       "      <th>Exited</th>\n",
       "    </tr>\n",
       "  </thead>\n",
       "  <tbody>\n",
       "    <tr>\n",
       "      <th>0</th>\n",
       "      <td>1</td>\n",
       "      <td>15634602</td>\n",
       "      <td>Hargrave</td>\n",
       "      <td>619</td>\n",
       "      <td>France</td>\n",
       "      <td>Female</td>\n",
       "      <td>42</td>\n",
       "      <td>2</td>\n",
       "      <td>0.00</td>\n",
       "      <td>1</td>\n",
       "      <td>1</td>\n",
       "      <td>1</td>\n",
       "      <td>101348.88</td>\n",
       "      <td>1</td>\n",
       "    </tr>\n",
       "    <tr>\n",
       "      <th>1</th>\n",
       "      <td>2</td>\n",
       "      <td>15647311</td>\n",
       "      <td>Hill</td>\n",
       "      <td>608</td>\n",
       "      <td>Spain</td>\n",
       "      <td>Female</td>\n",
       "      <td>41</td>\n",
       "      <td>1</td>\n",
       "      <td>83807.86</td>\n",
       "      <td>1</td>\n",
       "      <td>0</td>\n",
       "      <td>1</td>\n",
       "      <td>112542.58</td>\n",
       "      <td>0</td>\n",
       "    </tr>\n",
       "    <tr>\n",
       "      <th>2</th>\n",
       "      <td>3</td>\n",
       "      <td>15619304</td>\n",
       "      <td>Onio</td>\n",
       "      <td>502</td>\n",
       "      <td>France</td>\n",
       "      <td>Female</td>\n",
       "      <td>42</td>\n",
       "      <td>8</td>\n",
       "      <td>159660.80</td>\n",
       "      <td>3</td>\n",
       "      <td>1</td>\n",
       "      <td>0</td>\n",
       "      <td>113931.57</td>\n",
       "      <td>1</td>\n",
       "    </tr>\n",
       "    <tr>\n",
       "      <th>3</th>\n",
       "      <td>4</td>\n",
       "      <td>15701354</td>\n",
       "      <td>Boni</td>\n",
       "      <td>699</td>\n",
       "      <td>France</td>\n",
       "      <td>Female</td>\n",
       "      <td>39</td>\n",
       "      <td>1</td>\n",
       "      <td>0.00</td>\n",
       "      <td>2</td>\n",
       "      <td>0</td>\n",
       "      <td>0</td>\n",
       "      <td>93826.63</td>\n",
       "      <td>0</td>\n",
       "    </tr>\n",
       "    <tr>\n",
       "      <th>4</th>\n",
       "      <td>5</td>\n",
       "      <td>15737888</td>\n",
       "      <td>Mitchell</td>\n",
       "      <td>850</td>\n",
       "      <td>Spain</td>\n",
       "      <td>Female</td>\n",
       "      <td>43</td>\n",
       "      <td>2</td>\n",
       "      <td>125510.82</td>\n",
       "      <td>1</td>\n",
       "      <td>1</td>\n",
       "      <td>1</td>\n",
       "      <td>79084.10</td>\n",
       "      <td>0</td>\n",
       "    </tr>\n",
       "  </tbody>\n",
       "</table>\n",
       "</div>"
      ],
      "text/plain": [
       "   RowNumber  CustomerId   Surname  ...  IsActiveMember EstimatedSalary Exited\n",
       "0          1    15634602  Hargrave  ...               1       101348.88      1\n",
       "1          2    15647311      Hill  ...               1       112542.58      0\n",
       "2          3    15619304      Onio  ...               0       113931.57      1\n",
       "3          4    15701354      Boni  ...               0        93826.63      0\n",
       "4          5    15737888  Mitchell  ...               1        79084.10      0\n",
       "\n",
       "[5 rows x 14 columns]"
      ]
     },
     "execution_count": 184,
     "metadata": {
      "tags": []
     },
     "output_type": "execute_result"
    }
   ],
   "source": [
    "df.head()"
   ]
  },
  {
   "cell_type": "code",
   "execution_count": 185,
   "metadata": {
    "colab": {
     "base_uri": "https://localhost:8080/"
    },
    "id": "701rbPZFgyHg",
    "outputId": "06056eb4-bf47-4221-ae42-afe7cf4c88ca"
   },
   "outputs": [
    {
     "data": {
      "text/plain": [
       "(10000, 14)"
      ]
     },
     "execution_count": 185,
     "metadata": {
      "tags": []
     },
     "output_type": "execute_result"
    }
   ],
   "source": [
    "df.shape"
   ]
  },
  {
   "cell_type": "code",
   "execution_count": 186,
   "metadata": {
    "colab": {
     "base_uri": "https://localhost:8080/"
    },
    "id": "gWQEomndgyHh",
    "outputId": "ba7d5827-c183-4122-8be7-72f33f427bfc"
   },
   "outputs": [
    {
     "name": "stdout",
     "output_type": "stream",
     "text": [
      "<class 'pandas.core.frame.DataFrame'>\n",
      "RangeIndex: 10000 entries, 0 to 9999\n",
      "Data columns (total 14 columns):\n",
      " #   Column           Non-Null Count  Dtype  \n",
      "---  ------           --------------  -----  \n",
      " 0   RowNumber        10000 non-null  int64  \n",
      " 1   CustomerId       10000 non-null  int64  \n",
      " 2   Surname          10000 non-null  object \n",
      " 3   CreditScore      10000 non-null  int64  \n",
      " 4   Geography        10000 non-null  object \n",
      " 5   Gender           10000 non-null  object \n",
      " 6   Age              10000 non-null  int64  \n",
      " 7   Tenure           10000 non-null  int64  \n",
      " 8   Balance          10000 non-null  float64\n",
      " 9   NumOfProducts    10000 non-null  int64  \n",
      " 10  HasCrCard        10000 non-null  int64  \n",
      " 11  IsActiveMember   10000 non-null  int64  \n",
      " 12  EstimatedSalary  10000 non-null  float64\n",
      " 13  Exited           10000 non-null  int64  \n",
      "dtypes: float64(2), int64(9), object(3)\n",
      "memory usage: 1.1+ MB\n"
     ]
    }
   ],
   "source": [
    "df.info()"
   ]
  },
  {
   "cell_type": "code",
   "execution_count": 187,
   "metadata": {
    "colab": {
     "base_uri": "https://localhost:8080/"
    },
    "id": "phVdoZq7gyHh",
    "outputId": "dfe64fd0-83e9-45c1-e4c1-43b4d69682cf"
   },
   "outputs": [
    {
     "data": {
      "text/plain": [
       "RowNumber          0\n",
       "CustomerId         0\n",
       "Surname            0\n",
       "CreditScore        0\n",
       "Geography          0\n",
       "Gender             0\n",
       "Age                0\n",
       "Tenure             0\n",
       "Balance            0\n",
       "NumOfProducts      0\n",
       "HasCrCard          0\n",
       "IsActiveMember     0\n",
       "EstimatedSalary    0\n",
       "Exited             0\n",
       "dtype: int64"
      ]
     },
     "execution_count": 187,
     "metadata": {
      "tags": []
     },
     "output_type": "execute_result"
    }
   ],
   "source": [
    "df.isnull().sum()"
   ]
  },
  {
   "cell_type": "code",
   "execution_count": 188,
   "metadata": {
    "id": "UdMo5BtugyHh"
   },
   "outputs": [],
   "source": [
    "x=df.iloc[:,3:13]\n",
    "y=df.iloc[:,13]"
   ]
  },
  {
   "cell_type": "code",
   "execution_count": 189,
   "metadata": {
    "id": "LTvLQEGhgyHh"
   },
   "outputs": [],
   "source": [
    "geography=pd.get_dummies(x[\"Geography\"],drop_first=True)\n",
    "gender=pd.get_dummies(x['Gender'],drop_first=True)\n"
   ]
  },
  {
   "cell_type": "code",
   "execution_count": 190,
   "metadata": {
    "id": "F6c15LUJgyHh"
   },
   "outputs": [],
   "source": [
    "x=pd.concat([x,geography,gender],axis=1)"
   ]
  },
  {
   "cell_type": "code",
   "execution_count": 191,
   "metadata": {
    "id": "4R7go6vagyHh"
   },
   "outputs": [],
   "source": [
    "x=x.drop(['Geography','Gender'],axis=1)\n"
   ]
  },
  {
   "cell_type": "code",
   "execution_count": 192,
   "metadata": {
    "colab": {
     "base_uri": "https://localhost:8080/",
     "height": 422
    },
    "id": "FYC9NRz6gyHh",
    "outputId": "80ed72c3-a03a-4ac1-da1b-57e1aad4914e"
   },
   "outputs": [
    {
     "data": {
      "text/html": [
       "<div>\n",
       "<style scoped>\n",
       "    .dataframe tbody tr th:only-of-type {\n",
       "        vertical-align: middle;\n",
       "    }\n",
       "\n",
       "    .dataframe tbody tr th {\n",
       "        vertical-align: top;\n",
       "    }\n",
       "\n",
       "    .dataframe thead th {\n",
       "        text-align: right;\n",
       "    }\n",
       "</style>\n",
       "<table border=\"1\" class=\"dataframe\">\n",
       "  <thead>\n",
       "    <tr style=\"text-align: right;\">\n",
       "      <th></th>\n",
       "      <th>CreditScore</th>\n",
       "      <th>Age</th>\n",
       "      <th>Tenure</th>\n",
       "      <th>Balance</th>\n",
       "      <th>NumOfProducts</th>\n",
       "      <th>HasCrCard</th>\n",
       "      <th>IsActiveMember</th>\n",
       "      <th>EstimatedSalary</th>\n",
       "      <th>Germany</th>\n",
       "      <th>Spain</th>\n",
       "      <th>Male</th>\n",
       "    </tr>\n",
       "  </thead>\n",
       "  <tbody>\n",
       "    <tr>\n",
       "      <th>0</th>\n",
       "      <td>619</td>\n",
       "      <td>42</td>\n",
       "      <td>2</td>\n",
       "      <td>0.00</td>\n",
       "      <td>1</td>\n",
       "      <td>1</td>\n",
       "      <td>1</td>\n",
       "      <td>101348.88</td>\n",
       "      <td>0</td>\n",
       "      <td>0</td>\n",
       "      <td>0</td>\n",
       "    </tr>\n",
       "    <tr>\n",
       "      <th>1</th>\n",
       "      <td>608</td>\n",
       "      <td>41</td>\n",
       "      <td>1</td>\n",
       "      <td>83807.86</td>\n",
       "      <td>1</td>\n",
       "      <td>0</td>\n",
       "      <td>1</td>\n",
       "      <td>112542.58</td>\n",
       "      <td>0</td>\n",
       "      <td>1</td>\n",
       "      <td>0</td>\n",
       "    </tr>\n",
       "    <tr>\n",
       "      <th>2</th>\n",
       "      <td>502</td>\n",
       "      <td>42</td>\n",
       "      <td>8</td>\n",
       "      <td>159660.80</td>\n",
       "      <td>3</td>\n",
       "      <td>1</td>\n",
       "      <td>0</td>\n",
       "      <td>113931.57</td>\n",
       "      <td>0</td>\n",
       "      <td>0</td>\n",
       "      <td>0</td>\n",
       "    </tr>\n",
       "    <tr>\n",
       "      <th>3</th>\n",
       "      <td>699</td>\n",
       "      <td>39</td>\n",
       "      <td>1</td>\n",
       "      <td>0.00</td>\n",
       "      <td>2</td>\n",
       "      <td>0</td>\n",
       "      <td>0</td>\n",
       "      <td>93826.63</td>\n",
       "      <td>0</td>\n",
       "      <td>0</td>\n",
       "      <td>0</td>\n",
       "    </tr>\n",
       "    <tr>\n",
       "      <th>4</th>\n",
       "      <td>850</td>\n",
       "      <td>43</td>\n",
       "      <td>2</td>\n",
       "      <td>125510.82</td>\n",
       "      <td>1</td>\n",
       "      <td>1</td>\n",
       "      <td>1</td>\n",
       "      <td>79084.10</td>\n",
       "      <td>0</td>\n",
       "      <td>1</td>\n",
       "      <td>0</td>\n",
       "    </tr>\n",
       "    <tr>\n",
       "      <th>...</th>\n",
       "      <td>...</td>\n",
       "      <td>...</td>\n",
       "      <td>...</td>\n",
       "      <td>...</td>\n",
       "      <td>...</td>\n",
       "      <td>...</td>\n",
       "      <td>...</td>\n",
       "      <td>...</td>\n",
       "      <td>...</td>\n",
       "      <td>...</td>\n",
       "      <td>...</td>\n",
       "    </tr>\n",
       "    <tr>\n",
       "      <th>9995</th>\n",
       "      <td>771</td>\n",
       "      <td>39</td>\n",
       "      <td>5</td>\n",
       "      <td>0.00</td>\n",
       "      <td>2</td>\n",
       "      <td>1</td>\n",
       "      <td>0</td>\n",
       "      <td>96270.64</td>\n",
       "      <td>0</td>\n",
       "      <td>0</td>\n",
       "      <td>1</td>\n",
       "    </tr>\n",
       "    <tr>\n",
       "      <th>9996</th>\n",
       "      <td>516</td>\n",
       "      <td>35</td>\n",
       "      <td>10</td>\n",
       "      <td>57369.61</td>\n",
       "      <td>1</td>\n",
       "      <td>1</td>\n",
       "      <td>1</td>\n",
       "      <td>101699.77</td>\n",
       "      <td>0</td>\n",
       "      <td>0</td>\n",
       "      <td>1</td>\n",
       "    </tr>\n",
       "    <tr>\n",
       "      <th>9997</th>\n",
       "      <td>709</td>\n",
       "      <td>36</td>\n",
       "      <td>7</td>\n",
       "      <td>0.00</td>\n",
       "      <td>1</td>\n",
       "      <td>0</td>\n",
       "      <td>1</td>\n",
       "      <td>42085.58</td>\n",
       "      <td>0</td>\n",
       "      <td>0</td>\n",
       "      <td>0</td>\n",
       "    </tr>\n",
       "    <tr>\n",
       "      <th>9998</th>\n",
       "      <td>772</td>\n",
       "      <td>42</td>\n",
       "      <td>3</td>\n",
       "      <td>75075.31</td>\n",
       "      <td>2</td>\n",
       "      <td>1</td>\n",
       "      <td>0</td>\n",
       "      <td>92888.52</td>\n",
       "      <td>1</td>\n",
       "      <td>0</td>\n",
       "      <td>1</td>\n",
       "    </tr>\n",
       "    <tr>\n",
       "      <th>9999</th>\n",
       "      <td>792</td>\n",
       "      <td>28</td>\n",
       "      <td>4</td>\n",
       "      <td>130142.79</td>\n",
       "      <td>1</td>\n",
       "      <td>1</td>\n",
       "      <td>0</td>\n",
       "      <td>38190.78</td>\n",
       "      <td>0</td>\n",
       "      <td>0</td>\n",
       "      <td>0</td>\n",
       "    </tr>\n",
       "  </tbody>\n",
       "</table>\n",
       "<p>10000 rows × 11 columns</p>\n",
       "</div>"
      ],
      "text/plain": [
       "      CreditScore  Age  Tenure  ...  Germany  Spain  Male\n",
       "0             619   42       2  ...        0      0     0\n",
       "1             608   41       1  ...        0      1     0\n",
       "2             502   42       8  ...        0      0     0\n",
       "3             699   39       1  ...        0      0     0\n",
       "4             850   43       2  ...        0      1     0\n",
       "...           ...  ...     ...  ...      ...    ...   ...\n",
       "9995          771   39       5  ...        0      0     1\n",
       "9996          516   35      10  ...        0      0     1\n",
       "9997          709   36       7  ...        0      0     0\n",
       "9998          772   42       3  ...        1      0     1\n",
       "9999          792   28       4  ...        0      0     0\n",
       "\n",
       "[10000 rows x 11 columns]"
      ]
     },
     "execution_count": 192,
     "metadata": {
      "tags": []
     },
     "output_type": "execute_result"
    }
   ],
   "source": [
    "x"
   ]
  },
  {
   "cell_type": "code",
   "execution_count": 193,
   "metadata": {
    "id": "Kxkx0UXjgyHh"
   },
   "outputs": [],
   "source": [
    "from sklearn.model_selection import train_test_split"
   ]
  },
  {
   "cell_type": "code",
   "execution_count": 194,
   "metadata": {
    "id": "beMPoaaFgyHh"
   },
   "outputs": [],
   "source": [
    "x_train,x_test,y_train,y_test=train_test_split(x,y,test_size=0.2,random_state=0)"
   ]
  },
  {
   "cell_type": "code",
   "execution_count": 195,
   "metadata": {
    "colab": {
     "base_uri": "https://localhost:8080/"
    },
    "id": "14GE3eQr6p5U",
    "outputId": "8ca8333f-8b08-4760-bb0d-bd71d529250f"
   },
   "outputs": [
    {
     "data": {
      "text/plain": [
       "(8000, 11)"
      ]
     },
     "execution_count": 195,
     "metadata": {
      "tags": []
     },
     "output_type": "execute_result"
    }
   ],
   "source": [
    "x_train.shape"
   ]
  },
  {
   "cell_type": "code",
   "execution_count": 196,
   "metadata": {
    "id": "paVN3A96gyHh"
   },
   "outputs": [],
   "source": [
    "from sklearn.preprocessing import StandardScaler"
   ]
  },
  {
   "cell_type": "code",
   "execution_count": 197,
   "metadata": {
    "id": "ZKzPJwaQgyHh"
   },
   "outputs": [],
   "source": [
    "scaler=StandardScaler()"
   ]
  },
  {
   "cell_type": "code",
   "execution_count": 198,
   "metadata": {
    "id": "gl6MMoWigyHh"
   },
   "outputs": [],
   "source": [
    "x_train=scaler.fit_transform(x_train)"
   ]
  },
  {
   "cell_type": "code",
   "execution_count": 199,
   "metadata": {
    "id": "hsTSUQu-gyHh"
   },
   "outputs": [],
   "source": [
    "x_test=scaler.transform(x_test)"
   ]
  },
  {
   "cell_type": "code",
   "execution_count": 200,
   "metadata": {
    "id": "Vb4I7I-KgyHh"
   },
   "outputs": [],
   "source": [
    "import keras"
   ]
  },
  {
   "cell_type": "code",
   "execution_count": 201,
   "metadata": {
    "id": "Xglr1H16g2lc"
   },
   "outputs": [],
   "source": [
    "from keras.models import Sequential\n",
    "from keras.layers import Dense\n",
    "from keras.layers import PReLU,ELU,LeakyReLU\n",
    "from keras.layers import Dropout\n"
   ]
  },
  {
   "cell_type": "code",
   "execution_count": 202,
   "metadata": {
    "id": "y99LrnVgg7ia"
   },
   "outputs": [],
   "source": [
    "model=Sequential()"
   ]
  },
  {
   "cell_type": "code",
   "execution_count": 203,
   "metadata": {
    "id": "yNU02BWm5i-m"
   },
   "outputs": [],
   "source": [
    "model.add(Dense(units=6,kernel_initializer='glorot_uniform',activation='relu',input_dim=11))\n",
    "model.add(Dense(units=3,kernel_initializer='glorot_uniform',activation='relu'))\n",
    "model.add(Dense(units=1,kernel_initializer='glorot_uniform',activation='sigmoid'))"
   ]
  },
  {
   "cell_type": "code",
   "execution_count": 204,
   "metadata": {
    "id": "mgSFvU8Fy1nl"
   },
   "outputs": [],
   "source": [
    "model.compile(optimizer='adam',loss='binary_crossentropy', metrics=['accuracy'])"
   ]
  },
  {
   "cell_type": "code",
   "execution_count": 205,
   "metadata": {
    "colab": {
     "base_uri": "https://localhost:8080/"
    },
    "id": "h7jeuIL90FJw",
    "outputId": "72e4de99-cb2e-4b97-ae6d-8abd83aa7782"
   },
   "outputs": [
    {
     "name": "stdout",
     "output_type": "stream",
     "text": [
      "Epoch 1/50\n",
      "536/536 [==============================] - 1s 2ms/step - loss: 0.5618 - accuracy: 0.7473 - val_loss: 0.4902 - val_accuracy: 0.7948\n",
      "Epoch 2/50\n",
      "536/536 [==============================] - 1s 1ms/step - loss: 0.4673 - accuracy: 0.7953 - val_loss: 0.4601 - val_accuracy: 0.7944\n",
      "Epoch 3/50\n",
      "536/536 [==============================] - 1s 1ms/step - loss: 0.4457 - accuracy: 0.7970 - val_loss: 0.4467 - val_accuracy: 0.7970\n",
      "Epoch 4/50\n",
      "536/536 [==============================] - 1s 1ms/step - loss: 0.4342 - accuracy: 0.8026 - val_loss: 0.4389 - val_accuracy: 0.8023\n",
      "Epoch 5/50\n",
      "536/536 [==============================] - 1s 1ms/step - loss: 0.4264 - accuracy: 0.8102 - val_loss: 0.4333 - val_accuracy: 0.8088\n",
      "Epoch 6/50\n",
      "536/536 [==============================] - 1s 1ms/step - loss: 0.4205 - accuracy: 0.8143 - val_loss: 0.4306 - val_accuracy: 0.8141\n",
      "Epoch 7/50\n",
      "536/536 [==============================] - 1s 1ms/step - loss: 0.4166 - accuracy: 0.8199 - val_loss: 0.4261 - val_accuracy: 0.8148\n",
      "Epoch 8/50\n",
      "536/536 [==============================] - 1s 1ms/step - loss: 0.4125 - accuracy: 0.8259 - val_loss: 0.4222 - val_accuracy: 0.8175\n",
      "Epoch 9/50\n",
      "536/536 [==============================] - 1s 1ms/step - loss: 0.4082 - accuracy: 0.8263 - val_loss: 0.4184 - val_accuracy: 0.8167\n",
      "Epoch 10/50\n",
      "536/536 [==============================] - 1s 1ms/step - loss: 0.4049 - accuracy: 0.8298 - val_loss: 0.4164 - val_accuracy: 0.8232\n",
      "Epoch 11/50\n",
      "536/536 [==============================] - 1s 1ms/step - loss: 0.4024 - accuracy: 0.8291 - val_loss: 0.4116 - val_accuracy: 0.8213\n",
      "Epoch 12/50\n",
      "536/536 [==============================] - 1s 1ms/step - loss: 0.3994 - accuracy: 0.8293 - val_loss: 0.4089 - val_accuracy: 0.8224\n",
      "Epoch 13/50\n",
      "536/536 [==============================] - 1s 1ms/step - loss: 0.3959 - accuracy: 0.8311 - val_loss: 0.4060 - val_accuracy: 0.8254\n",
      "Epoch 14/50\n",
      "536/536 [==============================] - 1s 1ms/step - loss: 0.3933 - accuracy: 0.8324 - val_loss: 0.4031 - val_accuracy: 0.8258\n",
      "Epoch 15/50\n",
      "536/536 [==============================] - 1s 1ms/step - loss: 0.3911 - accuracy: 0.8319 - val_loss: 0.3997 - val_accuracy: 0.8270\n",
      "Epoch 16/50\n",
      "536/536 [==============================] - 1s 1ms/step - loss: 0.3877 - accuracy: 0.8326 - val_loss: 0.3995 - val_accuracy: 0.8273\n",
      "Epoch 17/50\n",
      "536/536 [==============================] - 1s 1ms/step - loss: 0.3858 - accuracy: 0.8354 - val_loss: 0.3942 - val_accuracy: 0.8307\n",
      "Epoch 18/50\n",
      "536/536 [==============================] - 1s 1ms/step - loss: 0.3824 - accuracy: 0.8350 - val_loss: 0.3913 - val_accuracy: 0.8251\n",
      "Epoch 19/50\n",
      "536/536 [==============================] - 1s 1ms/step - loss: 0.3799 - accuracy: 0.8380 - val_loss: 0.3881 - val_accuracy: 0.8311\n",
      "Epoch 20/50\n",
      "536/536 [==============================] - 1s 1ms/step - loss: 0.3766 - accuracy: 0.8412 - val_loss: 0.3860 - val_accuracy: 0.8357\n",
      "Epoch 21/50\n",
      "536/536 [==============================] - 1s 1ms/step - loss: 0.3738 - accuracy: 0.8440 - val_loss: 0.3836 - val_accuracy: 0.8349\n",
      "Epoch 22/50\n",
      "536/536 [==============================] - 1s 1ms/step - loss: 0.3701 - accuracy: 0.8446 - val_loss: 0.3819 - val_accuracy: 0.8360\n",
      "Epoch 23/50\n",
      "536/536 [==============================] - 1s 1ms/step - loss: 0.3677 - accuracy: 0.8459 - val_loss: 0.3790 - val_accuracy: 0.8406\n",
      "Epoch 24/50\n",
      "536/536 [==============================] - 1s 1ms/step - loss: 0.3647 - accuracy: 0.8468 - val_loss: 0.3779 - val_accuracy: 0.8398\n",
      "Epoch 25/50\n",
      "536/536 [==============================] - 1s 1ms/step - loss: 0.3631 - accuracy: 0.8479 - val_loss: 0.3767 - val_accuracy: 0.8410\n",
      "Epoch 26/50\n",
      "536/536 [==============================] - 1s 1ms/step - loss: 0.3599 - accuracy: 0.8496 - val_loss: 0.3745 - val_accuracy: 0.8432\n",
      "Epoch 27/50\n",
      "536/536 [==============================] - 1s 1ms/step - loss: 0.3585 - accuracy: 0.8487 - val_loss: 0.3714 - val_accuracy: 0.8478\n",
      "Epoch 28/50\n",
      "536/536 [==============================] - 1s 1ms/step - loss: 0.3566 - accuracy: 0.8503 - val_loss: 0.3717 - val_accuracy: 0.8455\n",
      "Epoch 29/50\n",
      "536/536 [==============================] - 1s 1ms/step - loss: 0.3552 - accuracy: 0.8524 - val_loss: 0.3704 - val_accuracy: 0.8489\n",
      "Epoch 30/50\n",
      "536/536 [==============================] - 1s 1ms/step - loss: 0.3534 - accuracy: 0.8541 - val_loss: 0.3700 - val_accuracy: 0.8448\n",
      "Epoch 31/50\n",
      "536/536 [==============================] - 1s 1ms/step - loss: 0.3515 - accuracy: 0.8531 - val_loss: 0.3684 - val_accuracy: 0.8497\n",
      "Epoch 32/50\n",
      "536/536 [==============================] - 1s 1ms/step - loss: 0.3505 - accuracy: 0.8531 - val_loss: 0.3650 - val_accuracy: 0.8561\n",
      "Epoch 33/50\n",
      "536/536 [==============================] - 1s 1ms/step - loss: 0.3495 - accuracy: 0.8545 - val_loss: 0.3648 - val_accuracy: 0.8542\n",
      "Epoch 34/50\n",
      "536/536 [==============================] - 1s 1ms/step - loss: 0.3487 - accuracy: 0.8569 - val_loss: 0.3639 - val_accuracy: 0.8538\n",
      "Epoch 35/50\n",
      "536/536 [==============================] - 1s 1ms/step - loss: 0.3474 - accuracy: 0.8558 - val_loss: 0.3667 - val_accuracy: 0.8516\n",
      "Epoch 36/50\n",
      "536/536 [==============================] - 1s 1ms/step - loss: 0.3461 - accuracy: 0.8565 - val_loss: 0.3640 - val_accuracy: 0.8527\n",
      "Epoch 37/50\n",
      "536/536 [==============================] - 1s 1ms/step - loss: 0.3458 - accuracy: 0.8572 - val_loss: 0.3637 - val_accuracy: 0.8508\n",
      "Epoch 38/50\n",
      "536/536 [==============================] - 1s 1ms/step - loss: 0.3450 - accuracy: 0.8567 - val_loss: 0.3632 - val_accuracy: 0.8508\n",
      "Epoch 39/50\n",
      "536/536 [==============================] - 1s 1ms/step - loss: 0.3437 - accuracy: 0.8587 - val_loss: 0.3612 - val_accuracy: 0.8531\n",
      "Epoch 40/50\n",
      "536/536 [==============================] - 1s 1ms/step - loss: 0.3428 - accuracy: 0.8604 - val_loss: 0.3654 - val_accuracy: 0.8512\n",
      "Epoch 41/50\n",
      "536/536 [==============================] - 1s 1ms/step - loss: 0.3424 - accuracy: 0.8572 - val_loss: 0.3614 - val_accuracy: 0.8538\n",
      "Epoch 42/50\n",
      "536/536 [==============================] - 1s 1ms/step - loss: 0.3412 - accuracy: 0.8571 - val_loss: 0.3606 - val_accuracy: 0.8557\n",
      "Epoch 43/50\n",
      "536/536 [==============================] - 1s 1ms/step - loss: 0.3411 - accuracy: 0.8614 - val_loss: 0.3622 - val_accuracy: 0.8523\n",
      "Epoch 44/50\n",
      "536/536 [==============================] - 1s 1ms/step - loss: 0.3411 - accuracy: 0.8558 - val_loss: 0.3602 - val_accuracy: 0.8550\n",
      "Epoch 45/50\n",
      "536/536 [==============================] - 1s 1ms/step - loss: 0.3404 - accuracy: 0.8587 - val_loss: 0.3628 - val_accuracy: 0.8535\n",
      "Epoch 46/50\n",
      "536/536 [==============================] - 1s 1ms/step - loss: 0.3400 - accuracy: 0.8586 - val_loss: 0.3623 - val_accuracy: 0.8523\n",
      "Epoch 47/50\n",
      "536/536 [==============================] - 1s 1ms/step - loss: 0.3387 - accuracy: 0.8593 - val_loss: 0.3618 - val_accuracy: 0.8527\n",
      "Epoch 48/50\n",
      "536/536 [==============================] - 1s 1ms/step - loss: 0.3385 - accuracy: 0.8569 - val_loss: 0.3613 - val_accuracy: 0.8519\n",
      "Epoch 49/50\n",
      "536/536 [==============================] - 1s 1ms/step - loss: 0.3389 - accuracy: 0.8595 - val_loss: 0.3619 - val_accuracy: 0.8569\n",
      "Epoch 50/50\n",
      "536/536 [==============================] - 1s 1ms/step - loss: 0.3371 - accuracy: 0.8582 - val_loss: 0.3639 - val_accuracy: 0.8531\n"
     ]
    }
   ],
   "source": [
    "model_history=model.fit(x_train, y_train,validation_split=0.33, batch_size = 10, epochs = 50)"
   ]
  },
  {
   "cell_type": "code",
   "execution_count": 206,
   "metadata": {
    "colab": {
     "base_uri": "https://localhost:8080/"
    },
    "id": "tb4XE3iwk8CQ",
    "outputId": "32f0f4ed-ec71-4a91-ac94-e22b75040631"
   },
   "outputs": [
    {
     "name": "stdout",
     "output_type": "stream",
     "text": [
      "Epoch 1/50\n",
      "134/134 [==============================] - 0s 2ms/step - loss: 0.3453 - accuracy: 0.8491 - val_loss: 0.3400 - val_accuracy: 0.8699\n",
      "Epoch 2/50\n",
      "134/134 [==============================] - 0s 1ms/step - loss: 0.3414 - accuracy: 0.8544 - val_loss: 0.3466 - val_accuracy: 0.8684\n",
      "Epoch 3/50\n",
      "134/134 [==============================] - 0s 1ms/step - loss: 0.3378 - accuracy: 0.8574 - val_loss: 0.3469 - val_accuracy: 0.8684\n",
      "Epoch 4/50\n",
      "134/134 [==============================] - 0s 1ms/step - loss: 0.3365 - accuracy: 0.8544 - val_loss: 0.3473 - val_accuracy: 0.8714\n",
      "Epoch 5/50\n",
      "134/134 [==============================] - 0s 2ms/step - loss: 0.3354 - accuracy: 0.8566 - val_loss: 0.3498 - val_accuracy: 0.8669\n",
      "Epoch 6/50\n",
      "134/134 [==============================] - 0s 2ms/step - loss: 0.3355 - accuracy: 0.8551 - val_loss: 0.3429 - val_accuracy: 0.8699\n",
      "Epoch 7/50\n",
      "134/134 [==============================] - 0s 2ms/step - loss: 0.3334 - accuracy: 0.8574 - val_loss: 0.3456 - val_accuracy: 0.8684\n",
      "Epoch 8/50\n",
      "134/134 [==============================] - 0s 1ms/step - loss: 0.3325 - accuracy: 0.8551 - val_loss: 0.3461 - val_accuracy: 0.8638\n",
      "Epoch 9/50\n",
      "134/134 [==============================] - 0s 1ms/step - loss: 0.3318 - accuracy: 0.8626 - val_loss: 0.3488 - val_accuracy: 0.8669\n",
      "Epoch 10/50\n",
      "134/134 [==============================] - 0s 1ms/step - loss: 0.3303 - accuracy: 0.8581 - val_loss: 0.3476 - val_accuracy: 0.8623\n",
      "Epoch 11/50\n",
      "134/134 [==============================] - 0s 1ms/step - loss: 0.3295 - accuracy: 0.8641 - val_loss: 0.3593 - val_accuracy: 0.8563\n",
      "Epoch 12/50\n",
      "134/134 [==============================] - 0s 1ms/step - loss: 0.3293 - accuracy: 0.8581 - val_loss: 0.3499 - val_accuracy: 0.8654\n",
      "Epoch 13/50\n",
      "134/134 [==============================] - 0s 1ms/step - loss: 0.3288 - accuracy: 0.8618 - val_loss: 0.3477 - val_accuracy: 0.8654\n",
      "Epoch 14/50\n",
      "134/134 [==============================] - 0s 1ms/step - loss: 0.3277 - accuracy: 0.8603 - val_loss: 0.3520 - val_accuracy: 0.8669\n",
      "Epoch 15/50\n",
      "134/134 [==============================] - 0s 2ms/step - loss: 0.3273 - accuracy: 0.8633 - val_loss: 0.3448 - val_accuracy: 0.8714\n",
      "Epoch 16/50\n",
      "134/134 [==============================] - 0s 2ms/step - loss: 0.3263 - accuracy: 0.8648 - val_loss: 0.3465 - val_accuracy: 0.8669\n",
      "Epoch 17/50\n",
      "134/134 [==============================] - 0s 1ms/step - loss: 0.3261 - accuracy: 0.8611 - val_loss: 0.3451 - val_accuracy: 0.8669\n",
      "Epoch 18/50\n",
      "134/134 [==============================] - 0s 1ms/step - loss: 0.3258 - accuracy: 0.8588 - val_loss: 0.3457 - val_accuracy: 0.8684\n",
      "Epoch 19/50\n",
      "134/134 [==============================] - 0s 1ms/step - loss: 0.3263 - accuracy: 0.8588 - val_loss: 0.3494 - val_accuracy: 0.8684\n",
      "Epoch 20/50\n",
      "134/134 [==============================] - 0s 1ms/step - loss: 0.3248 - accuracy: 0.8603 - val_loss: 0.3509 - val_accuracy: 0.8699\n",
      "Epoch 21/50\n",
      "134/134 [==============================] - 0s 1ms/step - loss: 0.3252 - accuracy: 0.8566 - val_loss: 0.3472 - val_accuracy: 0.8699\n",
      "Epoch 22/50\n",
      "134/134 [==============================] - 0s 1ms/step - loss: 0.3232 - accuracy: 0.8626 - val_loss: 0.3453 - val_accuracy: 0.8684\n",
      "Epoch 23/50\n",
      "134/134 [==============================] - 0s 1ms/step - loss: 0.3247 - accuracy: 0.8581 - val_loss: 0.3501 - val_accuracy: 0.8684\n",
      "Epoch 24/50\n",
      "134/134 [==============================] - 0s 1ms/step - loss: 0.3241 - accuracy: 0.8611 - val_loss: 0.3515 - val_accuracy: 0.8669\n",
      "Epoch 25/50\n",
      "134/134 [==============================] - 0s 1ms/step - loss: 0.3225 - accuracy: 0.8611 - val_loss: 0.3551 - val_accuracy: 0.8623\n",
      "Epoch 26/50\n",
      "134/134 [==============================] - 0s 1ms/step - loss: 0.3223 - accuracy: 0.8588 - val_loss: 0.3545 - val_accuracy: 0.8638\n",
      "Epoch 27/50\n",
      "134/134 [==============================] - 0s 1ms/step - loss: 0.3228 - accuracy: 0.8626 - val_loss: 0.3577 - val_accuracy: 0.8608\n",
      "Epoch 28/50\n",
      "134/134 [==============================] - 0s 1ms/step - loss: 0.3219 - accuracy: 0.8588 - val_loss: 0.3495 - val_accuracy: 0.8714\n",
      "Epoch 29/50\n",
      "134/134 [==============================] - 0s 1ms/step - loss: 0.3203 - accuracy: 0.8633 - val_loss: 0.3492 - val_accuracy: 0.8714\n",
      "Epoch 30/50\n",
      "134/134 [==============================] - 0s 2ms/step - loss: 0.3195 - accuracy: 0.8663 - val_loss: 0.3664 - val_accuracy: 0.8548\n",
      "Epoch 31/50\n",
      "134/134 [==============================] - 0s 2ms/step - loss: 0.3238 - accuracy: 0.8633 - val_loss: 0.3502 - val_accuracy: 0.8684\n",
      "Epoch 32/50\n",
      "134/134 [==============================] - 0s 2ms/step - loss: 0.3206 - accuracy: 0.8626 - val_loss: 0.3510 - val_accuracy: 0.8699\n",
      "Epoch 33/50\n",
      "134/134 [==============================] - 0s 1ms/step - loss: 0.3206 - accuracy: 0.8663 - val_loss: 0.3499 - val_accuracy: 0.8714\n",
      "Epoch 34/50\n",
      "134/134 [==============================] - 0s 1ms/step - loss: 0.3206 - accuracy: 0.8656 - val_loss: 0.3503 - val_accuracy: 0.8744\n",
      "Epoch 35/50\n",
      "134/134 [==============================] - 0s 1ms/step - loss: 0.3195 - accuracy: 0.8648 - val_loss: 0.3512 - val_accuracy: 0.8714\n",
      "Epoch 36/50\n",
      "134/134 [==============================] - 0s 1ms/step - loss: 0.3210 - accuracy: 0.8671 - val_loss: 0.3533 - val_accuracy: 0.8714\n",
      "Epoch 37/50\n",
      "134/134 [==============================] - 0s 1ms/step - loss: 0.3185 - accuracy: 0.8678 - val_loss: 0.3546 - val_accuracy: 0.8714\n",
      "Epoch 38/50\n",
      "134/134 [==============================] - 0s 1ms/step - loss: 0.3180 - accuracy: 0.8663 - val_loss: 0.3603 - val_accuracy: 0.8638\n",
      "Epoch 39/50\n",
      "134/134 [==============================] - 0s 1ms/step - loss: 0.3191 - accuracy: 0.8686 - val_loss: 0.3546 - val_accuracy: 0.8684\n",
      "Epoch 40/50\n",
      "134/134 [==============================] - 0s 1ms/step - loss: 0.3188 - accuracy: 0.8663 - val_loss: 0.3535 - val_accuracy: 0.8714\n",
      "Epoch 41/50\n",
      "134/134 [==============================] - 0s 1ms/step - loss: 0.3178 - accuracy: 0.8671 - val_loss: 0.3538 - val_accuracy: 0.8699\n",
      "Epoch 42/50\n",
      "134/134 [==============================] - 0s 2ms/step - loss: 0.3176 - accuracy: 0.8701 - val_loss: 0.3541 - val_accuracy: 0.8684\n",
      "Epoch 43/50\n",
      "134/134 [==============================] - 0s 1ms/step - loss: 0.3171 - accuracy: 0.8648 - val_loss: 0.3554 - val_accuracy: 0.8714\n",
      "Epoch 44/50\n",
      "134/134 [==============================] - 0s 1ms/step - loss: 0.3179 - accuracy: 0.8678 - val_loss: 0.3531 - val_accuracy: 0.8729\n",
      "Epoch 45/50\n",
      "134/134 [==============================] - 0s 1ms/step - loss: 0.3164 - accuracy: 0.8641 - val_loss: 0.3641 - val_accuracy: 0.8608\n",
      "Epoch 46/50\n",
      "134/134 [==============================] - 0s 1ms/step - loss: 0.3171 - accuracy: 0.8715 - val_loss: 0.3548 - val_accuracy: 0.8699\n",
      "Epoch 47/50\n",
      "134/134 [==============================] - 0s 1ms/step - loss: 0.3169 - accuracy: 0.8648 - val_loss: 0.3548 - val_accuracy: 0.8729\n",
      "Epoch 48/50\n",
      "134/134 [==============================] - 0s 1ms/step - loss: 0.3162 - accuracy: 0.8715 - val_loss: 0.3562 - val_accuracy: 0.8744\n",
      "Epoch 49/50\n",
      "134/134 [==============================] - 0s 2ms/step - loss: 0.3157 - accuracy: 0.8656 - val_loss: 0.3599 - val_accuracy: 0.8699\n",
      "Epoch 50/50\n",
      "134/134 [==============================] - 0s 1ms/step - loss: 0.3159 - accuracy: 0.8648 - val_loss: 0.3610 - val_accuracy: 0.8684\n"
     ]
    }
   ],
   "source": [
    "odel_history=model.fit(x_test, y_test,validation_split=0.33, batch_size = 10, epochs = 50)"
   ]
  },
  {
   "cell_type": "code",
   "execution_count": 207,
   "metadata": {
    "colab": {
     "base_uri": "https://localhost:8080/"
    },
    "id": "r5K0F4jJG1qP",
    "outputId": "a2e9a020-6c68-4ae9-dcd6-4e9fb891cc6c"
   },
   "outputs": [
    {
     "data": {
      "text/plain": [
       "array([[-0.55204276, -0.36890377,  1.04473698, ...,  1.75486502,\n",
       "        -0.57369368, -1.09168714],\n",
       "       [-1.31490297,  0.10961719, -1.031415  , ..., -0.5698444 ,\n",
       "        -0.57369368, -1.09168714],\n",
       "       [ 0.57162971,  0.30102557,  1.04473698, ..., -0.5698444 ,\n",
       "         1.74309049, -1.09168714],\n",
       "       ...,\n",
       "       [-0.74791227, -0.27319958, -1.37744033, ..., -0.5698444 ,\n",
       "         1.74309049,  0.91601335],\n",
       "       [-0.00566991, -0.46460796, -0.33936434, ...,  1.75486502,\n",
       "        -0.57369368,  0.91601335],\n",
       "       [-0.79945688, -0.84742473,  1.04473698, ...,  1.75486502,\n",
       "        -0.57369368,  0.91601335]])"
      ]
     },
     "execution_count": 207,
     "metadata": {
      "tags": []
     },
     "output_type": "execute_result"
    }
   ],
   "source": [
    "x_test"
   ]
  },
  {
   "cell_type": "code",
   "execution_count": 208,
   "metadata": {
    "id": "v3DOG0Nlle6o"
   },
   "outputs": [],
   "source": [
    "pred=model.predict(x_test)"
   ]
  },
  {
   "cell_type": "code",
   "execution_count": 209,
   "metadata": {
    "colab": {
     "base_uri": "https://localhost:8080/"
    },
    "id": "kvHQK6Zji0sk",
    "outputId": "eeb60148-5030-4ddf-fe6a-f97d2c2375c0"
   },
   "outputs": [
    {
     "name": "stdout",
     "output_type": "stream",
     "text": [
      "[[0.]]\n"
     ]
    }
   ],
   "source": [
    "\n",
    "print(model.predict([[619,42,2,0.00,1,1,1,101348.88,0,0,0]]))"
   ]
  },
  {
   "cell_type": "code",
   "execution_count": 210,
   "metadata": {
    "id": "aKsZHIoIgmJf"
   },
   "outputs": [],
   "source": [
    "from sklearn.metrics import confusion_matrix,accuracy_score"
   ]
  },
  {
   "cell_type": "code",
   "execution_count": null,
   "metadata": {
    "id": "dxlnQCTQmzx1"
   },
   "outputs": [],
   "source": [
    "confusion_matrix(y_test,pred)"
   ]
  },
  {
   "cell_type": "code",
   "execution_count": null,
   "metadata": {
    "id": "EmwGj5NNnSA8"
   },
   "outputs": [],
   "source": [
    ""
   ]
  },
  {
   "cell_type": "code",
   "execution_count": null,
   "metadata": {
    "id": "I4ILxsRxm_kM"
   },
   "outputs": [],
   "source": [
    ""
   ]
  }
 ],
 "metadata": {
  "colab": {
   "collapsed_sections": [],
   "name": "Untitled18 (1).ipynb",
   "provenance": []
  },
  "kernelspec": {
   "display_name": "Python 3",
   "language": "python",
   "name": "python3"
  },
  "language_info": {
   "codemirror_mode": {
    "name": "ipython",
    "version": 3
   },
   "file_extension": ".py",
   "mimetype": "text/x-python",
   "name": "python",
   "nbconvert_exporter": "python",
   "pygments_lexer": "ipython3",
   "version": "3.8.3"
  }
 },
 "nbformat": 4,
 "nbformat_minor": 0
}
